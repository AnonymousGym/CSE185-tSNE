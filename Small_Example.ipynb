{
 "cells": [
  {
   "cell_type": "markdown",
   "id": "282b9d53",
   "metadata": {},
   "source": [
    "You should use this \n",
    "```\n",
    "from CSE185_tSNE import *\n",
    "```\n",
    "to import!!"
   ]
  },
  {
   "cell_type": "code",
   "execution_count": 1,
   "id": "c1103cbf",
   "metadata": {},
   "outputs": [],
   "source": [
    "from CSE185_tSNE import *"
   ]
  },
  {
   "cell_type": "markdown",
   "id": "1b3478f3",
   "metadata": {},
   "source": [
    "Try to run the small dataset with our custom small_tsne function. The runtime is 266.3 seconds!"
   ]
  },
  {
   "cell_type": "code",
   "execution_count": 2,
   "id": "33affbf4",
   "metadata": {},
   "outputs": [
    {
     "name": "stdout",
     "output_type": "stream",
     "text": [
      "minus!\n",
      "dot!\n",
      "eig!\n",
      "dot!\n",
      "begin calc P\n",
      "begin calc D\n",
      "after calc D\n",
      "begin calc sigma\n",
      "after calc sigma\n",
      "begin cal pji\n",
      "after cal pji\n",
      "after calc P\n",
      "True\n",
      "1275\n",
      "0.05199831411747882\n"
     ]
    },
    {
     "data": {
      "image/png": "[encoded data removed]",
      "text/plain": [
       "<Figure size 432x288 with 1 Axes>"
      ]
     },
     "metadata": {
      "needs_background": "light"
     },
     "output_type": "display_data"
    },
    {
     "name": "stdout",
     "output_type": "stream",
     "text": [
      "266.3421256542206\n"
     ]
    }
   ],
   "source": [
    "import time\n",
    "t0 = time.time()\n",
    "tSNE.small_tsne(\"http://mcb112.org/w13/w13-data-small.tbl\")\n",
    "t1 = time.time()\n",
    "total = t1-t0\n",
    "print(total)"
   ]
  },
  {
   "cell_type": "markdown",
   "id": "9e30226f",
   "metadata": {},
   "source": [
    "Try to run the same small dataset with tSNE of sklearn. The runtime is 1.8s. This is 148x faster than our implementation!"
   ]
  },
  {
   "cell_type": "code",
   "execution_count": 3,
   "id": "40b34128",
   "metadata": {},
   "outputs": [],
   "source": [
    "import numpy as np\n",
    "import pandas as pd\n",
    "import matplotlib.pyplot as plt\n",
    "from sklearn.manifold import TSNE\n",
    "Color = [ 'xkcd:red',    'xkcd:green',  'xkcd:yellow',  'xkcd:blue',\n",
    "          'xkcd:orange', 'xkcd:purple', 'xkcd:cyan',    'xkcd:magenta',\n",
    "          'xkcd:lime',   'xkcd:pink',   'xkcd:teal',    'xkcd:lavender',\n",
    "          'xkcd:brown',  'xkcd:maroon', 'xkcd:olive',   'xkcd:navy' ]"
   ]
  },
  {
   "cell_type": "code",
   "execution_count": 4,
   "id": "f09fa53c",
   "metadata": {},
   "outputs": [],
   "source": [
    "def read_data(infile):\n",
    "    df = pd.read_table(infile)    # assume a well-formatted Pandas table, tab-delimited, col headers\n",
    "    ctype = list(df['type'])      # pull column 'type' out, the cell type labels\n",
    "    df  = df.drop('type', axis=1)  # delete that column, leaving just the count data columns\n",
    "    X   = np.log2( 1 + df.values)  # convert to log2(counts + 1). The +1 is arbitrary to avoid log(0)\n",
    "    M,N = X.shape\n",
    "    return X, ctype, M, N"
   ]
  },
  {
   "cell_type": "code",
   "execution_count": 5,
   "id": "d18209ba",
   "metadata": {},
   "outputs": [
    {
     "data": {
      "image/png": "[encoded data removed]",
      "text/plain": [
       "<Figure size 432x288 with 1 Axes>"
      ]
     },
     "metadata": {
      "needs_background": "light"
     },
     "output_type": "display_data"
    },
    {
     "name": "stdout",
     "output_type": "stream",
     "text": [
      "1.8102493286132812\n"
     ]
    }
   ],
   "source": [
    "X,  C,  M,  N  = read_data(\"http://mcb112.org/w13/w13-data-small.tbl\")\n",
    "t2=time.time()\n",
    "Y = TSNE(perplexity=5).fit_transform(X) \n",
    "for i in range(Y.shape[0]):\n",
    "    plt.plot(Y[i,0], Y[i,1], 'o', markersize=4, mfc='w',mec=Color[int(C[i])])\n",
    "plt.show()\n",
    "t3=time.time()\n",
    "print(t3-t2)"
   ]
  },
  {
   "cell_type": "markdown",
   "id": "3a34b5c1",
   "metadata": {},
   "source": [
    "What a big difference here! This implies our tSNE is not efficient enough. "
   ]
  }
 ],
 "metadata": {
  "kernelspec": {
   "display_name": "Python 3 (ipykernel)",
   "language": "python",
   "name": "python3"
  },
  "language_info": {
   "codemirror_mode": {
    "name": "ipython",
    "version": 3
   },
   "file_extension": ".py",
   "mimetype": "text/x-python",
   "name": "python",
   "nbconvert_exporter": "python",
   "pygments_lexer": "ipython3",
   "version": "3.9.5"
  }
 },
 "nbformat": 4,
 "nbformat_minor": 5
}
